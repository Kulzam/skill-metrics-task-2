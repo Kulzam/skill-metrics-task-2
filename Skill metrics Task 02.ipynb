{
 "cells": [
  {
   "cell_type": "code",
   "execution_count": 1,
   "id": "ccd628d2",
   "metadata": {},
   "outputs": [],
   "source": [
    "import pandas as pd\n",
    "import numpy as np\n",
    "import matplotlib.pyplot as plt\n",
    "import seaborn as sns"
   ]
  },
  {
   "cell_type": "code",
   "execution_count": 2,
   "id": "4ac5d420",
   "metadata": {
    "scrolled": true
   },
   "outputs": [],
   "source": [
    "data= pd.read_csv(\"customer_feature_engineering_assignment.csv\")"
   ]
  },
  {
   "cell_type": "code",
   "execution_count": 3,
   "id": "2c107dbb",
   "metadata": {},
   "outputs": [
    {
     "data": {
      "text/html": [
       "<div>\n",
       "<style scoped>\n",
       "    .dataframe tbody tr th:only-of-type {\n",
       "        vertical-align: middle;\n",
       "    }\n",
       "\n",
       "    .dataframe tbody tr th {\n",
       "        vertical-align: top;\n",
       "    }\n",
       "\n",
       "    .dataframe thead th {\n",
       "        text-align: right;\n",
       "    }\n",
       "</style>\n",
       "<table border=\"1\" class=\"dataframe\">\n",
       "  <thead>\n",
       "    <tr style=\"text-align: right;\">\n",
       "      <th></th>\n",
       "      <th>Customer_ID</th>\n",
       "      <th>Age</th>\n",
       "      <th>Gender</th>\n",
       "      <th>City</th>\n",
       "      <th>Income</th>\n",
       "      <th>Customer_Since</th>\n",
       "      <th>Spending_Score</th>\n",
       "    </tr>\n",
       "  </thead>\n",
       "  <tbody>\n",
       "    <tr>\n",
       "      <th>0</th>\n",
       "      <td>CUST2000</td>\n",
       "      <td>47</td>\n",
       "      <td>FEMALE</td>\n",
       "      <td>los angeles</td>\n",
       "      <td>NaN</td>\n",
       "      <td>Jan 11, 2015</td>\n",
       "      <td>23.0</td>\n",
       "    </tr>\n",
       "    <tr>\n",
       "      <th>1</th>\n",
       "      <td>CUST2001</td>\n",
       "      <td>75</td>\n",
       "      <td>FeMale</td>\n",
       "      <td>Huston</td>\n",
       "      <td>$22,348</td>\n",
       "      <td>Jan 03, 2019</td>\n",
       "      <td>8.0</td>\n",
       "    </tr>\n",
       "    <tr>\n",
       "      <th>2</th>\n",
       "      <td>CUST2002</td>\n",
       "      <td>40</td>\n",
       "      <td>Other</td>\n",
       "      <td>Huston</td>\n",
       "      <td>NaN</td>\n",
       "      <td>07-04-2018</td>\n",
       "      <td>12.0</td>\n",
       "    </tr>\n",
       "    <tr>\n",
       "      <th>3</th>\n",
       "      <td>CUST2003</td>\n",
       "      <td>31</td>\n",
       "      <td>Other</td>\n",
       "      <td>Houston</td>\n",
       "      <td>$130,069</td>\n",
       "      <td>03-03-2019</td>\n",
       "      <td>28.0</td>\n",
       "    </tr>\n",
       "    <tr>\n",
       "      <th>4</th>\n",
       "      <td>CUST2004</td>\n",
       "      <td>-10</td>\n",
       "      <td>Male</td>\n",
       "      <td>Unknown</td>\n",
       "      <td>$114,717</td>\n",
       "      <td>Sep 30, 2015</td>\n",
       "      <td>84.0</td>\n",
       "    </tr>\n",
       "  </tbody>\n",
       "</table>\n",
       "</div>"
      ],
      "text/plain": [
       "  Customer_ID  Age  Gender         City    Income Customer_Since  \\\n",
       "0    CUST2000   47  FEMALE  los angeles       NaN   Jan 11, 2015   \n",
       "1    CUST2001   75  FeMale       Huston   $22,348   Jan 03, 2019   \n",
       "2    CUST2002   40   Other       Huston       NaN     07-04-2018   \n",
       "3    CUST2003   31   Other      Houston  $130,069     03-03-2019   \n",
       "4    CUST2004  -10    Male      Unknown  $114,717   Sep 30, 2015   \n",
       "\n",
       "   Spending_Score  \n",
       "0            23.0  \n",
       "1             8.0  \n",
       "2            12.0  \n",
       "3            28.0  \n",
       "4            84.0  "
      ]
     },
     "execution_count": 3,
     "metadata": {},
     "output_type": "execute_result"
    }
   ],
   "source": [
    "data.head()"
   ]
  },
  {
   "cell_type": "code",
   "execution_count": 4,
   "id": "91a59a19",
   "metadata": {},
   "outputs": [
    {
     "data": {
      "text/plain": [
       "Customer_ID         0\n",
       "Age                 0\n",
       "Gender              0\n",
       "City                0\n",
       "Income            117\n",
       "Customer_Since      0\n",
       "Spending_Score     13\n",
       "dtype: int64"
      ]
     },
     "execution_count": 4,
     "metadata": {},
     "output_type": "execute_result"
    }
   ],
   "source": [
    "data.isnull().sum()"
   ]
  },
  {
   "cell_type": "code",
   "execution_count": 5,
   "id": "13cfe35a",
   "metadata": {},
   "outputs": [
    {
     "name": "stdout",
     "output_type": "stream",
     "text": [
      "Invalid dates: 0\n"
     ]
    }
   ],
   "source": [
    "data['Customer_Since'] = pd.to_datetime(data['Customer_Since'], dayfirst=True, errors='coerce')\n",
    "print(\"Invalid dates:\", data['Customer_Since'].isnull().sum())"
   ]
  },
  {
   "cell_type": "code",
   "execution_count": 6,
   "id": "aac8a55c",
   "metadata": {},
   "outputs": [
    {
     "data": {
      "text/plain": [
       "(1500, 7)"
      ]
     },
     "execution_count": 6,
     "metadata": {},
     "output_type": "execute_result"
    }
   ],
   "source": [
    "data.shape"
   ]
  },
  {
   "cell_type": "code",
   "execution_count": 7,
   "id": "a2630302",
   "metadata": {},
   "outputs": [
    {
     "data": {
      "text/html": [
       "<div>\n",
       "<style scoped>\n",
       "    .dataframe tbody tr th:only-of-type {\n",
       "        vertical-align: middle;\n",
       "    }\n",
       "\n",
       "    .dataframe tbody tr th {\n",
       "        vertical-align: top;\n",
       "    }\n",
       "\n",
       "    .dataframe thead th {\n",
       "        text-align: right;\n",
       "    }\n",
       "</style>\n",
       "<table border=\"1\" class=\"dataframe\">\n",
       "  <thead>\n",
       "    <tr style=\"text-align: right;\">\n",
       "      <th></th>\n",
       "      <th>Customer_ID</th>\n",
       "      <th>Age</th>\n",
       "      <th>Gender</th>\n",
       "      <th>City</th>\n",
       "      <th>Income</th>\n",
       "      <th>Customer_Since</th>\n",
       "      <th>Spending_Score</th>\n",
       "    </tr>\n",
       "  </thead>\n",
       "  <tbody>\n",
       "    <tr>\n",
       "      <th>0</th>\n",
       "      <td>CUST2000</td>\n",
       "      <td>47</td>\n",
       "      <td>FEMALE</td>\n",
       "      <td>los angeles</td>\n",
       "      <td>NaN</td>\n",
       "      <td>2015-01-11</td>\n",
       "      <td>23.0</td>\n",
       "    </tr>\n",
       "    <tr>\n",
       "      <th>1</th>\n",
       "      <td>CUST2001</td>\n",
       "      <td>75</td>\n",
       "      <td>FeMale</td>\n",
       "      <td>Huston</td>\n",
       "      <td>$22,348</td>\n",
       "      <td>2019-01-03</td>\n",
       "      <td>8.0</td>\n",
       "    </tr>\n",
       "    <tr>\n",
       "      <th>2</th>\n",
       "      <td>CUST2002</td>\n",
       "      <td>40</td>\n",
       "      <td>Other</td>\n",
       "      <td>Huston</td>\n",
       "      <td>NaN</td>\n",
       "      <td>2018-04-07</td>\n",
       "      <td>12.0</td>\n",
       "    </tr>\n",
       "    <tr>\n",
       "      <th>3</th>\n",
       "      <td>CUST2003</td>\n",
       "      <td>31</td>\n",
       "      <td>Other</td>\n",
       "      <td>Houston</td>\n",
       "      <td>$130,069</td>\n",
       "      <td>2019-03-03</td>\n",
       "      <td>28.0</td>\n",
       "    </tr>\n",
       "    <tr>\n",
       "      <th>4</th>\n",
       "      <td>CUST2004</td>\n",
       "      <td>-10</td>\n",
       "      <td>Male</td>\n",
       "      <td>Unknown</td>\n",
       "      <td>$114,717</td>\n",
       "      <td>2015-09-30</td>\n",
       "      <td>84.0</td>\n",
       "    </tr>\n",
       "  </tbody>\n",
       "</table>\n",
       "</div>"
      ],
      "text/plain": [
       "  Customer_ID  Age  Gender         City    Income Customer_Since  \\\n",
       "0    CUST2000   47  FEMALE  los angeles       NaN     2015-01-11   \n",
       "1    CUST2001   75  FeMale       Huston   $22,348     2019-01-03   \n",
       "2    CUST2002   40   Other       Huston       NaN     2018-04-07   \n",
       "3    CUST2003   31   Other      Houston  $130,069     2019-03-03   \n",
       "4    CUST2004  -10    Male      Unknown  $114,717     2015-09-30   \n",
       "\n",
       "   Spending_Score  \n",
       "0            23.0  \n",
       "1             8.0  \n",
       "2            12.0  \n",
       "3            28.0  \n",
       "4            84.0  "
      ]
     },
     "execution_count": 7,
     "metadata": {},
     "output_type": "execute_result"
    }
   ],
   "source": [
    "data.head()"
   ]
  },
  {
   "cell_type": "code",
   "execution_count": 8,
   "id": "a5fe26cc",
   "metadata": {},
   "outputs": [],
   "source": [
    "data = data[data['Age'] > 0]"
   ]
  },
  {
   "cell_type": "code",
   "execution_count": 9,
   "id": "d84cf761",
   "metadata": {},
   "outputs": [
    {
     "data": {
      "text/html": [
       "<div>\n",
       "<style scoped>\n",
       "    .dataframe tbody tr th:only-of-type {\n",
       "        vertical-align: middle;\n",
       "    }\n",
       "\n",
       "    .dataframe tbody tr th {\n",
       "        vertical-align: top;\n",
       "    }\n",
       "\n",
       "    .dataframe thead th {\n",
       "        text-align: right;\n",
       "    }\n",
       "</style>\n",
       "<table border=\"1\" class=\"dataframe\">\n",
       "  <thead>\n",
       "    <tr style=\"text-align: right;\">\n",
       "      <th></th>\n",
       "      <th>Customer_ID</th>\n",
       "      <th>Age</th>\n",
       "      <th>Gender</th>\n",
       "      <th>City</th>\n",
       "      <th>Income</th>\n",
       "      <th>Customer_Since</th>\n",
       "      <th>Spending_Score</th>\n",
       "    </tr>\n",
       "  </thead>\n",
       "  <tbody>\n",
       "    <tr>\n",
       "      <th>0</th>\n",
       "      <td>CUST2000</td>\n",
       "      <td>47</td>\n",
       "      <td>FEMALE</td>\n",
       "      <td>los angeles</td>\n",
       "      <td>NaN</td>\n",
       "      <td>2015-01-11</td>\n",
       "      <td>23.0</td>\n",
       "    </tr>\n",
       "    <tr>\n",
       "      <th>1</th>\n",
       "      <td>CUST2001</td>\n",
       "      <td>75</td>\n",
       "      <td>FeMale</td>\n",
       "      <td>Huston</td>\n",
       "      <td>$22,348</td>\n",
       "      <td>2019-01-03</td>\n",
       "      <td>8.0</td>\n",
       "    </tr>\n",
       "    <tr>\n",
       "      <th>2</th>\n",
       "      <td>CUST2002</td>\n",
       "      <td>40</td>\n",
       "      <td>Other</td>\n",
       "      <td>Huston</td>\n",
       "      <td>NaN</td>\n",
       "      <td>2018-04-07</td>\n",
       "      <td>12.0</td>\n",
       "    </tr>\n",
       "    <tr>\n",
       "      <th>3</th>\n",
       "      <td>CUST2003</td>\n",
       "      <td>31</td>\n",
       "      <td>Other</td>\n",
       "      <td>Houston</td>\n",
       "      <td>$130,069</td>\n",
       "      <td>2019-03-03</td>\n",
       "      <td>28.0</td>\n",
       "    </tr>\n",
       "    <tr>\n",
       "      <th>5</th>\n",
       "      <td>CUST2005</td>\n",
       "      <td>52</td>\n",
       "      <td>FEMALE</td>\n",
       "      <td>Huston</td>\n",
       "      <td>$120,937</td>\n",
       "      <td>2020-05-02</td>\n",
       "      <td>25.0</td>\n",
       "    </tr>\n",
       "  </tbody>\n",
       "</table>\n",
       "</div>"
      ],
      "text/plain": [
       "  Customer_ID  Age  Gender         City    Income Customer_Since  \\\n",
       "0    CUST2000   47  FEMALE  los angeles       NaN     2015-01-11   \n",
       "1    CUST2001   75  FeMale       Huston   $22,348     2019-01-03   \n",
       "2    CUST2002   40   Other       Huston       NaN     2018-04-07   \n",
       "3    CUST2003   31   Other      Houston  $130,069     2019-03-03   \n",
       "5    CUST2005   52  FEMALE       Huston  $120,937     2020-05-02   \n",
       "\n",
       "   Spending_Score  \n",
       "0            23.0  \n",
       "1             8.0  \n",
       "2            12.0  \n",
       "3            28.0  \n",
       "5            25.0  "
      ]
     },
     "execution_count": 9,
     "metadata": {},
     "output_type": "execute_result"
    }
   ],
   "source": [
    "data.head()"
   ]
  },
  {
   "cell_type": "code",
   "execution_count": 10,
   "id": "12e2a1d6",
   "metadata": {},
   "outputs": [
    {
     "data": {
      "text/plain": [
       "(1480, 7)"
      ]
     },
     "execution_count": 10,
     "metadata": {},
     "output_type": "execute_result"
    }
   ],
   "source": [
    "data.shape"
   ]
  },
  {
   "cell_type": "code",
   "execution_count": 11,
   "id": "736d3e99",
   "metadata": {},
   "outputs": [
    {
     "name": "stdout",
     "output_type": "stream",
     "text": [
      "Duplicate entries: 0\n"
     ]
    }
   ],
   "source": [
    "duplicates = data.duplicated()\n",
    "print(f\"Duplicate entries: {duplicates.sum()}\")"
   ]
  },
  {
   "cell_type": "code",
   "execution_count": 12,
   "id": "8b5d5b7f",
   "metadata": {},
   "outputs": [
    {
     "data": {
      "text/plain": [
       "(1480, 7)"
      ]
     },
     "execution_count": 12,
     "metadata": {},
     "output_type": "execute_result"
    }
   ],
   "source": [
    "data.shape"
   ]
  },
  {
   "cell_type": "markdown",
   "id": "68d77314",
   "metadata": {},
   "source": [
    "#### Part A: Outlier Detection (15 mins)"
   ]
  },
  {
   "cell_type": "code",
   "execution_count": 13,
   "id": "d0525c38",
   "metadata": {},
   "outputs": [],
   "source": [
    "num_cols = data.select_dtypes(include=['number'])"
   ]
  },
  {
   "cell_type": "code",
   "execution_count": 14,
   "id": "e40e8ace",
   "metadata": {},
   "outputs": [],
   "source": [
    "def remove_outliers_iqr(df, columns):\n",
    "    for col in columns:\n",
    "        Q1 = df[col].quantile(0.25)\n",
    "        Q3 = df[col].quantile(0.75)\n",
    "        IQR = Q3 - Q1\n",
    "        lower_bound = Q1 - 1.5 * IQR\n",
    "        upper_bound = Q3 + 1.5 * IQR\n",
    "\n",
    "        df = df[(df[col] >= lower_bound) & (df[col] <= upper_bound)]\n",
    "    \n",
    "    return df\n",
    "\n",
    "data_cleaned = remove_outliers_iqr(data, num_cols)"
   ]
  },
  {
   "cell_type": "code",
   "execution_count": 15,
   "id": "762c3f8f",
   "metadata": {},
   "outputs": [
    {
     "data": {
      "text/html": [
       "<div>\n",
       "<style scoped>\n",
       "    .dataframe tbody tr th:only-of-type {\n",
       "        vertical-align: middle;\n",
       "    }\n",
       "\n",
       "    .dataframe tbody tr th {\n",
       "        vertical-align: top;\n",
       "    }\n",
       "\n",
       "    .dataframe thead th {\n",
       "        text-align: right;\n",
       "    }\n",
       "</style>\n",
       "<table border=\"1\" class=\"dataframe\">\n",
       "  <thead>\n",
       "    <tr style=\"text-align: right;\">\n",
       "      <th></th>\n",
       "      <th>Customer_ID</th>\n",
       "      <th>Age</th>\n",
       "      <th>Gender</th>\n",
       "      <th>City</th>\n",
       "      <th>Income</th>\n",
       "      <th>Customer_Since</th>\n",
       "      <th>Spending_Score</th>\n",
       "    </tr>\n",
       "  </thead>\n",
       "  <tbody>\n",
       "    <tr>\n",
       "      <th>0</th>\n",
       "      <td>CUST2000</td>\n",
       "      <td>47</td>\n",
       "      <td>FEMALE</td>\n",
       "      <td>los angeles</td>\n",
       "      <td>NaN</td>\n",
       "      <td>2015-01-11</td>\n",
       "      <td>23.0</td>\n",
       "    </tr>\n",
       "    <tr>\n",
       "      <th>1</th>\n",
       "      <td>CUST2001</td>\n",
       "      <td>75</td>\n",
       "      <td>FeMale</td>\n",
       "      <td>Huston</td>\n",
       "      <td>$22,348</td>\n",
       "      <td>2019-01-03</td>\n",
       "      <td>8.0</td>\n",
       "    </tr>\n",
       "    <tr>\n",
       "      <th>2</th>\n",
       "      <td>CUST2002</td>\n",
       "      <td>40</td>\n",
       "      <td>Other</td>\n",
       "      <td>Huston</td>\n",
       "      <td>NaN</td>\n",
       "      <td>2018-04-07</td>\n",
       "      <td>12.0</td>\n",
       "    </tr>\n",
       "    <tr>\n",
       "      <th>3</th>\n",
       "      <td>CUST2003</td>\n",
       "      <td>31</td>\n",
       "      <td>Other</td>\n",
       "      <td>Houston</td>\n",
       "      <td>$130,069</td>\n",
       "      <td>2019-03-03</td>\n",
       "      <td>28.0</td>\n",
       "    </tr>\n",
       "    <tr>\n",
       "      <th>5</th>\n",
       "      <td>CUST2005</td>\n",
       "      <td>52</td>\n",
       "      <td>FEMALE</td>\n",
       "      <td>Huston</td>\n",
       "      <td>$120,937</td>\n",
       "      <td>2020-05-02</td>\n",
       "      <td>25.0</td>\n",
       "    </tr>\n",
       "  </tbody>\n",
       "</table>\n",
       "</div>"
      ],
      "text/plain": [
       "  Customer_ID  Age  Gender         City    Income Customer_Since  \\\n",
       "0    CUST2000   47  FEMALE  los angeles       NaN     2015-01-11   \n",
       "1    CUST2001   75  FeMale       Huston   $22,348     2019-01-03   \n",
       "2    CUST2002   40   Other       Huston       NaN     2018-04-07   \n",
       "3    CUST2003   31   Other      Houston  $130,069     2019-03-03   \n",
       "5    CUST2005   52  FEMALE       Huston  $120,937     2020-05-02   \n",
       "\n",
       "   Spending_Score  \n",
       "0            23.0  \n",
       "1             8.0  \n",
       "2            12.0  \n",
       "3            28.0  \n",
       "5            25.0  "
      ]
     },
     "execution_count": 15,
     "metadata": {},
     "output_type": "execute_result"
    }
   ],
   "source": [
    "data_cleaned.head()"
   ]
  },
  {
   "cell_type": "code",
   "execution_count": 16,
   "id": "dbb098bd",
   "metadata": {},
   "outputs": [
    {
     "data": {
      "image/png": "[encoded data removed]",
      "text/plain": [
       "<Figure size 432x288 with 1 Axes>"
      ]
     },
     "metadata": {
      "needs_background": "light"
     },
     "output_type": "display_data"
    }
   ],
   "source": [
    "plt.figure()\n",
    "sns.boxplot(data=data_cleaned[\"Age\"])\n",
    "plt.xticks(rotation=90)\n",
    "plt.show()"
   ]
  },
  {
   "cell_type": "code",
   "execution_count": 17,
   "id": "45193e0e",
   "metadata": {},
   "outputs": [
    {
     "data": {
      "text/plain": [
       "(1480, 7)"
      ]
     },
     "execution_count": 17,
     "metadata": {},
     "output_type": "execute_result"
    }
   ],
   "source": [
    "data.shape"
   ]
  },
  {
   "cell_type": "markdown",
   "id": "204cf101",
   "metadata": {},
   "source": [
    "#### Part B: Feature Engineering & Transformation (15 mins)"
   ]
  },
  {
   "cell_type": "code",
   "execution_count": 18,
   "id": "5b7c3078",
   "metadata": {},
   "outputs": [],
   "source": [
    "data[\"Customer_Experience\"]=2025-data.Customer_Since.dt.year"
   ]
  },
  {
   "cell_type": "code",
   "execution_count": 19,
   "id": "6ce0ac28",
   "metadata": {},
   "outputs": [
    {
     "data": {
      "text/html": [
       "<div>\n",
       "<style scoped>\n",
       "    .dataframe tbody tr th:only-of-type {\n",
       "        vertical-align: middle;\n",
       "    }\n",
       "\n",
       "    .dataframe tbody tr th {\n",
       "        vertical-align: top;\n",
       "    }\n",
       "\n",
       "    .dataframe thead th {\n",
       "        text-align: right;\n",
       "    }\n",
       "</style>\n",
       "<table border=\"1\" class=\"dataframe\">\n",
       "  <thead>\n",
       "    <tr style=\"text-align: right;\">\n",
       "      <th></th>\n",
       "      <th>Customer_ID</th>\n",
       "      <th>Age</th>\n",
       "      <th>Gender</th>\n",
       "      <th>City</th>\n",
       "      <th>Income</th>\n",
       "      <th>Customer_Since</th>\n",
       "      <th>Spending_Score</th>\n",
       "      <th>Customer_Experience</th>\n",
       "    </tr>\n",
       "  </thead>\n",
       "  <tbody>\n",
       "    <tr>\n",
       "      <th>0</th>\n",
       "      <td>CUST2000</td>\n",
       "      <td>47</td>\n",
       "      <td>FEMALE</td>\n",
       "      <td>los angeles</td>\n",
       "      <td>NaN</td>\n",
       "      <td>2015-01-11</td>\n",
       "      <td>23.0</td>\n",
       "      <td>10</td>\n",
       "    </tr>\n",
       "    <tr>\n",
       "      <th>1</th>\n",
       "      <td>CUST2001</td>\n",
       "      <td>75</td>\n",
       "      <td>FeMale</td>\n",
       "      <td>Huston</td>\n",
       "      <td>$22,348</td>\n",
       "      <td>2019-01-03</td>\n",
       "      <td>8.0</td>\n",
       "      <td>6</td>\n",
       "    </tr>\n",
       "    <tr>\n",
       "      <th>2</th>\n",
       "      <td>CUST2002</td>\n",
       "      <td>40</td>\n",
       "      <td>Other</td>\n",
       "      <td>Huston</td>\n",
       "      <td>NaN</td>\n",
       "      <td>2018-04-07</td>\n",
       "      <td>12.0</td>\n",
       "      <td>7</td>\n",
       "    </tr>\n",
       "    <tr>\n",
       "      <th>3</th>\n",
       "      <td>CUST2003</td>\n",
       "      <td>31</td>\n",
       "      <td>Other</td>\n",
       "      <td>Houston</td>\n",
       "      <td>$130,069</td>\n",
       "      <td>2019-03-03</td>\n",
       "      <td>28.0</td>\n",
       "      <td>6</td>\n",
       "    </tr>\n",
       "    <tr>\n",
       "      <th>5</th>\n",
       "      <td>CUST2005</td>\n",
       "      <td>52</td>\n",
       "      <td>FEMALE</td>\n",
       "      <td>Huston</td>\n",
       "      <td>$120,937</td>\n",
       "      <td>2020-05-02</td>\n",
       "      <td>25.0</td>\n",
       "      <td>5</td>\n",
       "    </tr>\n",
       "  </tbody>\n",
       "</table>\n",
       "</div>"
      ],
      "text/plain": [
       "  Customer_ID  Age  Gender         City    Income Customer_Since  \\\n",
       "0    CUST2000   47  FEMALE  los angeles       NaN     2015-01-11   \n",
       "1    CUST2001   75  FeMale       Huston   $22,348     2019-01-03   \n",
       "2    CUST2002   40   Other       Huston       NaN     2018-04-07   \n",
       "3    CUST2003   31   Other      Houston  $130,069     2019-03-03   \n",
       "5    CUST2005   52  FEMALE       Huston  $120,937     2020-05-02   \n",
       "\n",
       "   Spending_Score  Customer_Experience  \n",
       "0            23.0                   10  \n",
       "1             8.0                    6  \n",
       "2            12.0                    7  \n",
       "3            28.0                    6  \n",
       "5            25.0                    5  "
      ]
     },
     "execution_count": 19,
     "metadata": {},
     "output_type": "execute_result"
    }
   ],
   "source": [
    "data.head()"
   ]
  },
  {
   "cell_type": "code",
   "execution_count": 20,
   "id": "26e4b440",
   "metadata": {},
   "outputs": [],
   "source": [
    "def classify_experience(years):\n",
    "    if years <= 2:\n",
    "        return \"New\"\n",
    "    elif 3 <= years <= 5:\n",
    "        return \"Established\"\n",
    "    else:\n",
    "        return \"Loyal\"\n",
    "\n",
    "data['Customer_Category'] = data['Customer_Experience'].apply(classify_experience)"
   ]
  },
  {
   "cell_type": "code",
   "execution_count": 21,
   "id": "8a2cf7ec",
   "metadata": {},
   "outputs": [
    {
     "data": {
      "text/html": [
       "<div>\n",
       "<style scoped>\n",
       "    .dataframe tbody tr th:only-of-type {\n",
       "        vertical-align: middle;\n",
       "    }\n",
       "\n",
       "    .dataframe tbody tr th {\n",
       "        vertical-align: top;\n",
       "    }\n",
       "\n",
       "    .dataframe thead th {\n",
       "        text-align: right;\n",
       "    }\n",
       "</style>\n",
       "<table border=\"1\" class=\"dataframe\">\n",
       "  <thead>\n",
       "    <tr style=\"text-align: right;\">\n",
       "      <th></th>\n",
       "      <th>Customer_ID</th>\n",
       "      <th>Age</th>\n",
       "      <th>Gender</th>\n",
       "      <th>City</th>\n",
       "      <th>Income</th>\n",
       "      <th>Customer_Since</th>\n",
       "      <th>Spending_Score</th>\n",
       "      <th>Customer_Experience</th>\n",
       "      <th>Customer_Category</th>\n",
       "    </tr>\n",
       "  </thead>\n",
       "  <tbody>\n",
       "    <tr>\n",
       "      <th>0</th>\n",
       "      <td>CUST2000</td>\n",
       "      <td>47</td>\n",
       "      <td>FEMALE</td>\n",
       "      <td>los angeles</td>\n",
       "      <td>NaN</td>\n",
       "      <td>2015-01-11</td>\n",
       "      <td>23.0</td>\n",
       "      <td>10</td>\n",
       "      <td>Loyal</td>\n",
       "    </tr>\n",
       "    <tr>\n",
       "      <th>1</th>\n",
       "      <td>CUST2001</td>\n",
       "      <td>75</td>\n",
       "      <td>FeMale</td>\n",
       "      <td>Huston</td>\n",
       "      <td>$22,348</td>\n",
       "      <td>2019-01-03</td>\n",
       "      <td>8.0</td>\n",
       "      <td>6</td>\n",
       "      <td>Loyal</td>\n",
       "    </tr>\n",
       "    <tr>\n",
       "      <th>2</th>\n",
       "      <td>CUST2002</td>\n",
       "      <td>40</td>\n",
       "      <td>Other</td>\n",
       "      <td>Huston</td>\n",
       "      <td>NaN</td>\n",
       "      <td>2018-04-07</td>\n",
       "      <td>12.0</td>\n",
       "      <td>7</td>\n",
       "      <td>Loyal</td>\n",
       "    </tr>\n",
       "    <tr>\n",
       "      <th>3</th>\n",
       "      <td>CUST2003</td>\n",
       "      <td>31</td>\n",
       "      <td>Other</td>\n",
       "      <td>Houston</td>\n",
       "      <td>$130,069</td>\n",
       "      <td>2019-03-03</td>\n",
       "      <td>28.0</td>\n",
       "      <td>6</td>\n",
       "      <td>Loyal</td>\n",
       "    </tr>\n",
       "    <tr>\n",
       "      <th>5</th>\n",
       "      <td>CUST2005</td>\n",
       "      <td>52</td>\n",
       "      <td>FEMALE</td>\n",
       "      <td>Huston</td>\n",
       "      <td>$120,937</td>\n",
       "      <td>2020-05-02</td>\n",
       "      <td>25.0</td>\n",
       "      <td>5</td>\n",
       "      <td>Established</td>\n",
       "    </tr>\n",
       "  </tbody>\n",
       "</table>\n",
       "</div>"
      ],
      "text/plain": [
       "  Customer_ID  Age  Gender         City    Income Customer_Since  \\\n",
       "0    CUST2000   47  FEMALE  los angeles       NaN     2015-01-11   \n",
       "1    CUST2001   75  FeMale       Huston   $22,348     2019-01-03   \n",
       "2    CUST2002   40   Other       Huston       NaN     2018-04-07   \n",
       "3    CUST2003   31   Other      Houston  $130,069     2019-03-03   \n",
       "5    CUST2005   52  FEMALE       Huston  $120,937     2020-05-02   \n",
       "\n",
       "   Spending_Score  Customer_Experience Customer_Category  \n",
       "0            23.0                   10             Loyal  \n",
       "1             8.0                    6             Loyal  \n",
       "2            12.0                    7             Loyal  \n",
       "3            28.0                    6             Loyal  \n",
       "5            25.0                    5       Established  "
      ]
     },
     "execution_count": 21,
     "metadata": {},
     "output_type": "execute_result"
    }
   ],
   "source": [
    "data.head()"
   ]
  },
  {
   "cell_type": "code",
   "execution_count": 22,
   "id": "f6f624de",
   "metadata": {},
   "outputs": [],
   "source": [
    "data['Income'] = data['Income'].replace('[\\$,]', '', regex=True)\n",
    "data['Income'] = pd.to_numeric(data['Income'], errors='coerce')"
   ]
  },
  {
   "cell_type": "code",
   "execution_count": 23,
   "id": "ee38d607",
   "metadata": {},
   "outputs": [],
   "source": [
    "data['Income'].fillna(data['Income'].median(), inplace=True)"
   ]
  },
  {
   "cell_type": "code",
   "execution_count": 24,
   "id": "f0dcba2c",
   "metadata": {},
   "outputs": [],
   "source": [
    "data['Spending_Score'].fillna(data['Spending_Score'].median(), inplace=True)"
   ]
  },
  {
   "cell_type": "code",
   "execution_count": 25,
   "id": "32d5eedb",
   "metadata": {},
   "outputs": [],
   "source": [
    "data['Gender'] = data['Gender'].str.title()\n",
    "data['City'] = data['City'].str.title()\n",
    "\n",
    "gender_mode = data.loc[data['Gender'] != 'Unknown', 'Gender'].mode()[0]\n",
    "data['Gender'] = data['Gender'].replace('Unknown', gender_mode)\n",
    "\n",
    "city_mode = data.loc[data['City'] != 'Unknown', 'City'].mode()[0]\n",
    "data['City'] = data['City'].replace('Unknown', city_mode)"
   ]
  },
  {
   "cell_type": "code",
   "execution_count": 26,
   "id": "f753a093",
   "metadata": {},
   "outputs": [],
   "source": [
    "data = data[~duplicates]\n",
    "data = data[data['Income'] > 0]"
   ]
  },
  {
   "cell_type": "code",
   "execution_count": 27,
   "id": "dc3ed247",
   "metadata": {},
   "outputs": [],
   "source": [
    "data['High_Spender'] = data['Spending_Score'].apply(lambda x: 1 if x > 75 else 0)"
   ]
  },
  {
   "cell_type": "code",
   "execution_count": 28,
   "id": "caeec6a4",
   "metadata": {},
   "outputs": [
    {
     "data": {
      "text/html": [
       "<div>\n",
       "<style scoped>\n",
       "    .dataframe tbody tr th:only-of-type {\n",
       "        vertical-align: middle;\n",
       "    }\n",
       "\n",
       "    .dataframe tbody tr th {\n",
       "        vertical-align: top;\n",
       "    }\n",
       "\n",
       "    .dataframe thead th {\n",
       "        text-align: right;\n",
       "    }\n",
       "</style>\n",
       "<table border=\"1\" class=\"dataframe\">\n",
       "  <thead>\n",
       "    <tr style=\"text-align: right;\">\n",
       "      <th></th>\n",
       "      <th>Customer_ID</th>\n",
       "      <th>Age</th>\n",
       "      <th>Gender</th>\n",
       "      <th>City</th>\n",
       "      <th>Income</th>\n",
       "      <th>Customer_Since</th>\n",
       "      <th>Spending_Score</th>\n",
       "      <th>Customer_Experience</th>\n",
       "      <th>Customer_Category</th>\n",
       "      <th>High_Spender</th>\n",
       "    </tr>\n",
       "  </thead>\n",
       "  <tbody>\n",
       "    <tr>\n",
       "      <th>0</th>\n",
       "      <td>CUST2000</td>\n",
       "      <td>47</td>\n",
       "      <td>Female</td>\n",
       "      <td>Los Angeles</td>\n",
       "      <td>87236.0</td>\n",
       "      <td>2015-01-11</td>\n",
       "      <td>23.0</td>\n",
       "      <td>10</td>\n",
       "      <td>Loyal</td>\n",
       "      <td>0</td>\n",
       "    </tr>\n",
       "    <tr>\n",
       "      <th>1</th>\n",
       "      <td>CUST2001</td>\n",
       "      <td>75</td>\n",
       "      <td>Female</td>\n",
       "      <td>Huston</td>\n",
       "      <td>22348.0</td>\n",
       "      <td>2019-01-03</td>\n",
       "      <td>8.0</td>\n",
       "      <td>6</td>\n",
       "      <td>Loyal</td>\n",
       "      <td>0</td>\n",
       "    </tr>\n",
       "    <tr>\n",
       "      <th>2</th>\n",
       "      <td>CUST2002</td>\n",
       "      <td>40</td>\n",
       "      <td>Other</td>\n",
       "      <td>Huston</td>\n",
       "      <td>87236.0</td>\n",
       "      <td>2018-04-07</td>\n",
       "      <td>12.0</td>\n",
       "      <td>7</td>\n",
       "      <td>Loyal</td>\n",
       "      <td>0</td>\n",
       "    </tr>\n",
       "    <tr>\n",
       "      <th>3</th>\n",
       "      <td>CUST2003</td>\n",
       "      <td>31</td>\n",
       "      <td>Other</td>\n",
       "      <td>Houston</td>\n",
       "      <td>130069.0</td>\n",
       "      <td>2019-03-03</td>\n",
       "      <td>28.0</td>\n",
       "      <td>6</td>\n",
       "      <td>Loyal</td>\n",
       "      <td>0</td>\n",
       "    </tr>\n",
       "    <tr>\n",
       "      <th>5</th>\n",
       "      <td>CUST2005</td>\n",
       "      <td>52</td>\n",
       "      <td>Female</td>\n",
       "      <td>Huston</td>\n",
       "      <td>120937.0</td>\n",
       "      <td>2020-05-02</td>\n",
       "      <td>25.0</td>\n",
       "      <td>5</td>\n",
       "      <td>Established</td>\n",
       "      <td>0</td>\n",
       "    </tr>\n",
       "  </tbody>\n",
       "</table>\n",
       "</div>"
      ],
      "text/plain": [
       "  Customer_ID  Age  Gender         City    Income Customer_Since  \\\n",
       "0    CUST2000   47  Female  Los Angeles   87236.0     2015-01-11   \n",
       "1    CUST2001   75  Female       Huston   22348.0     2019-01-03   \n",
       "2    CUST2002   40   Other       Huston   87236.0     2018-04-07   \n",
       "3    CUST2003   31   Other      Houston  130069.0     2019-03-03   \n",
       "5    CUST2005   52  Female       Huston  120937.0     2020-05-02   \n",
       "\n",
       "   Spending_Score  Customer_Experience Customer_Category  High_Spender  \n",
       "0            23.0                   10             Loyal             0  \n",
       "1             8.0                    6             Loyal             0  \n",
       "2            12.0                    7             Loyal             0  \n",
       "3            28.0                    6             Loyal             0  \n",
       "5            25.0                    5       Established             0  "
      ]
     },
     "execution_count": 28,
     "metadata": {},
     "output_type": "execute_result"
    }
   ],
   "source": [
    "data.head()"
   ]
  },
  {
   "cell_type": "markdown",
   "id": "32913442",
   "metadata": {},
   "source": [
    "#### Part B : Encoding and scaling"
   ]
  },
  {
   "cell_type": "markdown",
   "id": "0a41944b",
   "metadata": {},
   "source": [
    "#### Encoding"
   ]
  },
  {
   "cell_type": "code",
   "execution_count": 29,
   "id": "2f8def91",
   "metadata": {},
   "outputs": [],
   "source": [
    "from sklearn.preprocessing import LabelEncoder , OneHotEncoder"
   ]
  },
  {
   "cell_type": "code",
   "execution_count": 30,
   "id": "1ba0f037",
   "metadata": {},
   "outputs": [],
   "source": [
    "# Label encode Gender\n",
    "label_encoder = LabelEncoder()\n",
    "data[\"Gender\"] = label_encoder.fit_transform(data[\"Gender\"])\n",
    "\n",
    "oh_encoder = OneHotEncoder()\n",
    "city_encoded = oh_encoder.fit_transform(data[[\"City\"]])\n",
    "\n",
    "data[\"City\"] = ['_'.join(map(str, row.astype(int))) for row in city_encoded]"
   ]
  },
  {
   "cell_type": "code",
   "execution_count": 32,
   "id": "171b1a6c",
   "metadata": {},
   "outputs": [
    {
     "data": {
      "image/png": "[encoded data removed]",
      "text/plain": [
       "<Figure size 1080x720 with 9 Axes>"
      ]
     },
     "metadata": {
      "needs_background": "light"
     },
     "output_type": "display_data"
    }
   ],
   "source": [
    "data.hist(figsize=(15,10))\n",
    "plt.xticks(rotation=90)\n",
    "plt.show()"
   ]
  },
  {
   "cell_type": "markdown",
   "id": "5c40572a",
   "metadata": {},
   "source": [
    "#### Scaling"
   ]
  },
  {
   "cell_type": "code",
   "execution_count": 31,
   "id": "5f927178",
   "metadata": {},
   "outputs": [],
   "source": [
    "from sklearn.preprocessing import MinMaxScaler, StandardScaler"
   ]
  },
  {
   "cell_type": "code",
   "execution_count": 37,
   "id": "e1dfc082",
   "metadata": {},
   "outputs": [],
   "source": [
    "minmax_scaler = MinMaxScaler()\n",
    "data[\"Age\"] = minmax_scaler.fit_transform(data[[\"Age\"]])\n",
    "data[\"Income\"] = minmax_scaler.fit_transform(data[[\"Income\"]])\n",
    "data[\"Spending_Score\"] = minmax_scaler.fit_transform(data[[\"Spending_Score\"]])"
   ]
  },
  {
   "cell_type": "code",
   "execution_count": 38,
   "id": "a78d9eaf",
   "metadata": {},
   "outputs": [
    {
     "data": {
      "text/html": [
       "<div>\n",
       "<style scoped>\n",
       "    .dataframe tbody tr th:only-of-type {\n",
       "        vertical-align: middle;\n",
       "    }\n",
       "\n",
       "    .dataframe tbody tr th {\n",
       "        vertical-align: top;\n",
       "    }\n",
       "\n",
       "    .dataframe thead th {\n",
       "        text-align: right;\n",
       "    }\n",
       "</style>\n",
       "<table border=\"1\" class=\"dataframe\">\n",
       "  <thead>\n",
       "    <tr style=\"text-align: right;\">\n",
       "      <th></th>\n",
       "      <th>Customer_ID</th>\n",
       "      <th>Age</th>\n",
       "      <th>Gender</th>\n",
       "      <th>City</th>\n",
       "      <th>Income</th>\n",
       "      <th>Customer_Since</th>\n",
       "      <th>Spending_Score</th>\n",
       "      <th>Customer_Experience</th>\n",
       "      <th>Customer_Category</th>\n",
       "      <th>High_Spender</th>\n",
       "    </tr>\n",
       "  </thead>\n",
       "  <tbody>\n",
       "    <tr>\n",
       "      <th>0</th>\n",
       "      <td>CUST2000</td>\n",
       "      <td>0.219697</td>\n",
       "      <td>0</td>\n",
       "      <td>(0, 2)\\t1</td>\n",
       "      <td>0.517158</td>\n",
       "      <td>2015-01-11</td>\n",
       "      <td>0.222222</td>\n",
       "      <td>10</td>\n",
       "      <td>Loyal</td>\n",
       "      <td>0</td>\n",
       "    </tr>\n",
       "    <tr>\n",
       "      <th>1</th>\n",
       "      <td>CUST2001</td>\n",
       "      <td>0.431818</td>\n",
       "      <td>0</td>\n",
       "      <td>(0, 1)\\t1</td>\n",
       "      <td>0.017562</td>\n",
       "      <td>2019-01-03</td>\n",
       "      <td>0.070707</td>\n",
       "      <td>6</td>\n",
       "      <td>Loyal</td>\n",
       "      <td>0</td>\n",
       "    </tr>\n",
       "    <tr>\n",
       "      <th>2</th>\n",
       "      <td>CUST2002</td>\n",
       "      <td>0.166667</td>\n",
       "      <td>2</td>\n",
       "      <td>(0, 1)\\t1</td>\n",
       "      <td>0.517158</td>\n",
       "      <td>2018-04-07</td>\n",
       "      <td>0.111111</td>\n",
       "      <td>7</td>\n",
       "      <td>Loyal</td>\n",
       "      <td>0</td>\n",
       "    </tr>\n",
       "    <tr>\n",
       "      <th>3</th>\n",
       "      <td>CUST2003</td>\n",
       "      <td>0.098485</td>\n",
       "      <td>2</td>\n",
       "      <td>(0, 0)\\t1</td>\n",
       "      <td>0.846945</td>\n",
       "      <td>2019-03-03</td>\n",
       "      <td>0.272727</td>\n",
       "      <td>6</td>\n",
       "      <td>Loyal</td>\n",
       "      <td>0</td>\n",
       "    </tr>\n",
       "    <tr>\n",
       "      <th>5</th>\n",
       "      <td>CUST2005</td>\n",
       "      <td>0.257576</td>\n",
       "      <td>0</td>\n",
       "      <td>(0, 1)\\t1</td>\n",
       "      <td>0.776634</td>\n",
       "      <td>2020-05-02</td>\n",
       "      <td>0.242424</td>\n",
       "      <td>5</td>\n",
       "      <td>Established</td>\n",
       "      <td>0</td>\n",
       "    </tr>\n",
       "  </tbody>\n",
       "</table>\n",
       "</div>"
      ],
      "text/plain": [
       "  Customer_ID       Age  Gender         City    Income Customer_Since  \\\n",
       "0    CUST2000  0.219697       0    (0, 2)\\t1  0.517158     2015-01-11   \n",
       "1    CUST2001  0.431818       0    (0, 1)\\t1  0.017562     2019-01-03   \n",
       "2    CUST2002  0.166667       2    (0, 1)\\t1  0.517158     2018-04-07   \n",
       "3    CUST2003  0.098485       2    (0, 0)\\t1  0.846945     2019-03-03   \n",
       "5    CUST2005  0.257576       0    (0, 1)\\t1  0.776634     2020-05-02   \n",
       "\n",
       "   Spending_Score  Customer_Experience Customer_Category  High_Spender  \n",
       "0        0.222222                   10             Loyal             0  \n",
       "1        0.070707                    6             Loyal             0  \n",
       "2        0.111111                    7             Loyal             0  \n",
       "3        0.272727                    6             Loyal             0  \n",
       "5        0.242424                    5       Established             0  "
      ]
     },
     "execution_count": 38,
     "metadata": {},
     "output_type": "execute_result"
    }
   ],
   "source": [
    "data.head()"
   ]
  },
  {
   "cell_type": "code",
   "execution_count": 39,
   "id": "6a2a11c8",
   "metadata": {},
   "outputs": [],
   "source": [
    "std_scaler = StandardScaler()\n",
    "data[\"Income\"] = std_scaler.fit_transform(data[[\"Income\"]])\n",
    "data[\"Spending_Score\"] = std_scaler.fit_transform(data[[\"Spending_Score\"]])"
   ]
  },
  {
   "cell_type": "code",
   "execution_count": 40,
   "id": "4b3ec863",
   "metadata": {},
   "outputs": [
    {
     "data": {
      "text/html": [
       "<div>\n",
       "<style scoped>\n",
       "    .dataframe tbody tr th:only-of-type {\n",
       "        vertical-align: middle;\n",
       "    }\n",
       "\n",
       "    .dataframe tbody tr th {\n",
       "        vertical-align: top;\n",
       "    }\n",
       "\n",
       "    .dataframe thead th {\n",
       "        text-align: right;\n",
       "    }\n",
       "</style>\n",
       "<table border=\"1\" class=\"dataframe\">\n",
       "  <thead>\n",
       "    <tr style=\"text-align: right;\">\n",
       "      <th></th>\n",
       "      <th>Customer_ID</th>\n",
       "      <th>Age</th>\n",
       "      <th>Gender</th>\n",
       "      <th>City</th>\n",
       "      <th>Income</th>\n",
       "      <th>Customer_Since</th>\n",
       "      <th>Spending_Score</th>\n",
       "      <th>Customer_Experience</th>\n",
       "      <th>Customer_Category</th>\n",
       "      <th>High_Spender</th>\n",
       "    </tr>\n",
       "  </thead>\n",
       "  <tbody>\n",
       "    <tr>\n",
       "      <th>0</th>\n",
       "      <td>CUST2000</td>\n",
       "      <td>0.219697</td>\n",
       "      <td>0</td>\n",
       "      <td>(0, 2)\\t1</td>\n",
       "      <td>0.019343</td>\n",
       "      <td>2015-01-11</td>\n",
       "      <td>-0.980928</td>\n",
       "      <td>10</td>\n",
       "      <td>Loyal</td>\n",
       "      <td>0</td>\n",
       "    </tr>\n",
       "    <tr>\n",
       "      <th>1</th>\n",
       "      <td>CUST2001</td>\n",
       "      <td>0.431818</td>\n",
       "      <td>0</td>\n",
       "      <td>(0, 1)\\t1</td>\n",
       "      <td>-1.778154</td>\n",
       "      <td>2019-01-03</td>\n",
       "      <td>-1.503888</td>\n",
       "      <td>6</td>\n",
       "      <td>Loyal</td>\n",
       "      <td>0</td>\n",
       "    </tr>\n",
       "    <tr>\n",
       "      <th>2</th>\n",
       "      <td>CUST2002</td>\n",
       "      <td>0.166667</td>\n",
       "      <td>2</td>\n",
       "      <td>(0, 1)\\t1</td>\n",
       "      <td>0.019343</td>\n",
       "      <td>2018-04-07</td>\n",
       "      <td>-1.364432</td>\n",
       "      <td>7</td>\n",
       "      <td>Loyal</td>\n",
       "      <td>0</td>\n",
       "    </tr>\n",
       "    <tr>\n",
       "      <th>3</th>\n",
       "      <td>CUST2003</td>\n",
       "      <td>0.098485</td>\n",
       "      <td>2</td>\n",
       "      <td>(0, 0)\\t1</td>\n",
       "      <td>1.205883</td>\n",
       "      <td>2019-03-03</td>\n",
       "      <td>-0.806607</td>\n",
       "      <td>6</td>\n",
       "      <td>Loyal</td>\n",
       "      <td>0</td>\n",
       "    </tr>\n",
       "    <tr>\n",
       "      <th>5</th>\n",
       "      <td>CUST2005</td>\n",
       "      <td>0.257576</td>\n",
       "      <td>0</td>\n",
       "      <td>(0, 1)\\t1</td>\n",
       "      <td>0.952913</td>\n",
       "      <td>2020-05-02</td>\n",
       "      <td>-0.911200</td>\n",
       "      <td>5</td>\n",
       "      <td>Established</td>\n",
       "      <td>0</td>\n",
       "    </tr>\n",
       "  </tbody>\n",
       "</table>\n",
       "</div>"
      ],
      "text/plain": [
       "  Customer_ID       Age  Gender         City    Income Customer_Since  \\\n",
       "0    CUST2000  0.219697       0    (0, 2)\\t1  0.019343     2015-01-11   \n",
       "1    CUST2001  0.431818       0    (0, 1)\\t1 -1.778154     2019-01-03   \n",
       "2    CUST2002  0.166667       2    (0, 1)\\t1  0.019343     2018-04-07   \n",
       "3    CUST2003  0.098485       2    (0, 0)\\t1  1.205883     2019-03-03   \n",
       "5    CUST2005  0.257576       0    (0, 1)\\t1  0.952913     2020-05-02   \n",
       "\n",
       "   Spending_Score  Customer_Experience Customer_Category  High_Spender  \n",
       "0       -0.980928                   10             Loyal             0  \n",
       "1       -1.503888                    6             Loyal             0  \n",
       "2       -1.364432                    7             Loyal             0  \n",
       "3       -0.806607                    6             Loyal             0  \n",
       "5       -0.911200                    5       Established             0  "
      ]
     },
     "execution_count": 40,
     "metadata": {},
     "output_type": "execute_result"
    }
   ],
   "source": [
    "data.head()"
   ]
  },
  {
   "cell_type": "markdown",
   "id": "6408fa01",
   "metadata": {},
   "source": [
    "#### Part D: Correlation & Analysis"
   ]
  },
  {
   "cell_type": "code",
   "execution_count": 45,
   "id": "4631ba59",
   "metadata": {},
   "outputs": [
    {
     "name": "stdout",
     "output_type": "stream",
     "text": [
      "                          Age    Gender    Income  Spending_Score  \\\n",
      "Age                  1.000000 -0.032686 -0.004053        0.011276   \n",
      "Gender              -0.032686  1.000000  0.019715       -0.041411   \n",
      "Income              -0.004053  0.019715  1.000000        0.028829   \n",
      "Spending_Score       0.011276 -0.041411  0.028829        1.000000   \n",
      "Customer_Experience  0.063384  0.016397  0.002075        0.015883   \n",
      "High_Spender         0.014314 -0.034234  0.047362        0.747161   \n",
      "\n",
      "                     Customer_Experience  High_Spender  \n",
      "Age                             0.063384      0.014314  \n",
      "Gender                          0.016397     -0.034234  \n",
      "Income                          0.002075      0.047362  \n",
      "Spending_Score                  0.015883      0.747161  \n",
      "Customer_Experience             1.000000      0.031016  \n",
      "High_Spender                    0.031016      1.000000  \n"
     ]
    },
    {
     "data": {
      "image/png": "[encoded data removed]",
      "text/plain": [
       "<Figure size 720x576 with 2 Axes>"
      ]
     },
     "metadata": {
      "needs_background": "light"
     },
     "output_type": "display_data"
    }
   ],
   "source": [
    "numerical_data = data.select_dtypes(include=['number'])\n",
    "\n",
    "corr_matrix = numerical_data.corr()\n",
    "\n",
    "print(corr_matrix)\n",
    "\n",
    "plt.figure(figsize=(10, 8))\n",
    "sns.heatmap(corr_matrix, annot=True, cmap='coolwarm', fmt=\".2f\", linewidths=0.5)\n",
    "plt.title(\"Correlation Matrix of Numerical Features\")\n",
    "plt.show()"
   ]
  },
  {
   "cell_type": "markdown",
   "id": "5bc19aa4",
   "metadata": {},
   "source": [
    "#### Top 2 Predictive Features for High Spenders\n",
    "Spending_Score has a correlation with High_Spender of 0.747. Customers with higher spending scores are very likely to be labeled as high spenders.\n",
    "\n",
    "Income has a Correlation with High_Spender of 0.047. While not strongly correlated, income still contributes slightly to the likelihood of being a high spender. People with more disposable income have more potential to spend."
   ]
  },
  {
   "cell_type": "code",
   "execution_count": null,
   "id": "bd9f18dc",
   "metadata": {},
   "outputs": [],
   "source": []
  }
 ],
 "metadata": {
  "kernelspec": {
   "display_name": "Python 3 (ipykernel)",
   "language": "python",
   "name": "python3"
  },
  "language_info": {
   "codemirror_mode": {
    "name": "ipython",
    "version": 3
   },
   "file_extension": ".py",
   "mimetype": "text/x-python",
   "name": "python",
   "nbconvert_exporter": "python",
   "pygments_lexer": "ipython3",
   "version": "3.9.12"
  }
 },
 "nbformat": 4,
 "nbformat_minor": 5
}
